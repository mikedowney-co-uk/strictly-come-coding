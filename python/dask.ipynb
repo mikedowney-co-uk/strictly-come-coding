{
 "cells": [
  {
   "cell_type": "code",
   "id": "initial_id",
   "metadata": {
    "collapsed": true
   },
   "source": [
    "from dask.distributed import LocalCluster\n",
    "import dask.dataframe as dd\n",
    "\n",
    "cluster = LocalCluster()\n",
    "client = cluster.get_client()\n"
   ],
   "outputs": [],
   "execution_count": null
  },
  {
   "metadata": {},
   "cell_type": "code",
   "source": "df = dd.read_csv('../measurements.txt', header=None, delimiter=';', names=['station', 'temp'], dtype={'station': 'str', 'temp': 'float64'})",
   "id": "8a7c17606bfc55ea",
   "outputs": [],
   "execution_count": null
  },
  {
   "metadata": {},
   "cell_type": "code",
   "source": "df = df.groupby('station')['temp'].agg(['min', 'mean', 'max']).sort_values(by=\"station\").compute()",
   "id": "279ad4ead682200b",
   "outputs": [],
   "execution_count": null
  },
  {
   "metadata": {},
   "cell_type": "code",
   "source": [
    "for row in df.itertuples():\n",
    "    print(f\"{row.Index}={row.min};{row.mean:0.2f};{row.max}\")"
   ],
   "id": "85945796a750afb4",
   "outputs": [],
   "execution_count": null
  },
  {
   "metadata": {},
   "cell_type": "code",
   "source": "",
   "id": "5f1496f3518f2cb4",
   "outputs": [],
   "execution_count": null
  }
 ],
 "metadata": {
  "kernelspec": {
   "display_name": "Python 3",
   "language": "python",
   "name": "python3"
  },
  "language_info": {
   "codemirror_mode": {
    "name": "ipython",
    "version": 2
   },
   "file_extension": ".py",
   "mimetype": "text/x-python",
   "name": "python",
   "nbconvert_exporter": "python",
   "pygments_lexer": "ipython2",
   "version": "2.7.6"
  }
 },
 "nbformat": 4,
 "nbformat_minor": 5
}

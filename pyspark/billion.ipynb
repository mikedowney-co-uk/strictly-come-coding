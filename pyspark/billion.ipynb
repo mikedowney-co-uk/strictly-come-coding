{
 "cells": [
  {
   "metadata": {},
   "cell_type": "markdown",
   "source": [
    "# The billion row challenge in pyspark\n",
    "No optimising, just does the calculation then dumps the dataframe without formatting the display. The only concession is to change the number of decimal places."
   ],
   "id": "898ec881bae0186d"
  },
  {
   "metadata": {
    "collapsed": true
   },
   "cell_type": "code",
   "outputs": [],
   "execution_count": null,
   "source": [
    "from pyspark.sql import SparkSession\n",
    "from pyspark.sql import types as st\n",
    "from pyspark.sql import functions as sf\n",
    "spark = SparkSession.builder.getOrCreate()"
   ],
   "id": "initial_id"
  },
  {
   "metadata": {},
   "cell_type": "code",
   "source": [
    "schema = st.StructType([\n",
    "    st.StructField('station', st.StringType()),\n",
    "    st.StructField('temp', st.FloatType()),\n",
    "])\n",
    "\n",
    "data = spark.read.option(\"delimiter\", \";\").schema(schema).csv(\"../measurements.txt\")"
   ],
   "id": "48671030649e341b",
   "outputs": [],
   "execution_count": null
  },
  {
   "metadata": {},
   "cell_type": "code",
   "source": [
    "data.groupby(\"station\").agg(\n",
    "    sf.min(\"temp\").alias(\"min_temp\"),\n",
    "    sf.avg(\"temp\").alias(\"avg_temp\"),\n",
    "    sf.max(\"temp\").alias(\"max_temp\"),    \n",
    ").withColumn(\n",
    "    \"avg_temp\", sf.col(\"avg_temp\").cast(st.DecimalType(4, 2))\n",
    ").orderBy(\"station\").show()"
   ],
   "id": "68919233737c5eac",
   "outputs": [],
   "execution_count": null
  },
  {
   "metadata": {},
   "cell_type": "code",
   "source": "",
   "id": "90ac0214fd2eceeb",
   "outputs": [],
   "execution_count": null
  }
 ],
 "metadata": {
  "kernelspec": {
   "display_name": "Python 3",
   "language": "python",
   "name": "python3"
  },
  "language_info": {
   "codemirror_mode": {
    "name": "ipython",
    "version": 2
   },
   "file_extension": ".py",
   "mimetype": "text/x-python",
   "name": "python",
   "nbconvert_exporter": "python",
   "pygments_lexer": "ipython2",
   "version": "2.7.6"
  }
 },
 "nbformat": 4,
 "nbformat_minor": 5
}

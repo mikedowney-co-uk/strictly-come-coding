{
 "cells": [
  {
   "cell_type": "code",
   "id": "initial_id",
   "metadata": {
    "collapsed": true
   },
   "source": [
    "import pymysql.cursors\n",
    "\n",
    "connection = pymysql.connect(host='',\n",
    "                             user='',\n",
    "                             password='',\n",
    "                             db='temp',\n",
    "                             cursorclass=pymysql.cursors.DictCursor)\n",
    "cursor = connection.cursor()\n",
    "\n",
    "file = \"../million.txt\"\n",
    "blocksize = 100\n",
    "table = \"million\""
   ],
   "outputs": [],
   "execution_count": null
  },
  {
   "metadata": {},
   "cell_type": "code",
   "source": [
    "with open(file) as f:\n",
    "    line = f.readline().strip()\n",
    "    while line:\n",
    "        values = []\n",
    "        for _ in range(blocksize):\n",
    "            if not line:\n",
    "                print(\"Finished\")\n",
    "                break\n",
    "            station, temperature = line.split(\";\")\n",
    "            values.append(f'(\"{station}\", {temperature})')\n",
    "            line = f.readline().strip()\n",
    "        if values:\n",
    "            sql = f\"INSERT INTO {table} (station, temperature) VALUES {', '.join(values)}\"\n",
    "            # print(sql)\n",
    "            cursor.execute(sql)\n",
    "\n",
    "print(\"Committed\")\n",
    "connection.commit()\n",
    "\n",
    "# writing the million rows over the network to the pi takes: 7 minutes (blocksize = 10)\n",
    "# writing directly at the raspberry pi takes: 55s (blocksize = 10), 20s (blocksize=100)"
   ],
   "id": "ead69918ea788cac",
   "outputs": [],
   "execution_count": null
  },
  {
   "metadata": {},
   "cell_type": "code",
   "source": [
    "cursor.execute(f\"select count(*) from {table}\")\n",
    "cursor.fetchall()"
   ],
   "id": "78d76f24b21c35e8",
   "outputs": [],
   "execution_count": null
  },
  {
   "metadata": {},
   "cell_type": "code",
   "source": [
    "sql = f\"SELECT station, min(temperature) as min, avg(temperature) as mean, max(temperature) as max from {table} group by station order by station\"\n",
    "print(sql)"
   ],
   "id": "f2b7816dfa96a1d6",
   "outputs": [],
   "execution_count": null
  },
  {
   "metadata": {},
   "cell_type": "code",
   "source": [
    "# calculating the million on the pi using mysql takes 11s\n",
    "cursor.execute(sql)\n",
    "ret = cursor.fetchall()"
   ],
   "id": "6e84c7d5d1c9a233",
   "outputs": [],
   "execution_count": null
  },
  {
   "metadata": {},
   "cell_type": "code",
   "source": [
    "for row in ret:\n",
    "    print(f\"{row['station']}={row['min']:0.1f};{row['mean']:0.1f};{row['max']:0.1f}\")"
   ],
   "id": "c5c63e8311fe2a86",
   "outputs": [],
   "execution_count": null
  },
  {
   "metadata": {},
   "cell_type": "code",
   "source": "connection.close()",
   "id": "dd135f68ea758754",
   "outputs": [],
   "execution_count": null
  },
  {
   "metadata": {},
   "cell_type": "code",
   "source": [
    "cursor.execute(f\"delete from {table}\")\n",
    "connection.commit()"
   ],
   "id": "c78359f026bd3416",
   "outputs": [],
   "execution_count": null
  }
 ],
 "metadata": {
  "kernelspec": {
   "display_name": "Python 3",
   "language": "python",
   "name": "python3"
  },
  "language_info": {
   "codemirror_mode": {
    "name": "ipython",
    "version": 2
   },
   "file_extension": ".py",
   "mimetype": "text/x-python",
   "name": "python",
   "nbconvert_exporter": "python",
   "pygments_lexer": "ipython2",
   "version": "2.7.6"
  }
 },
 "nbformat": 4,
 "nbformat_minor": 5
}

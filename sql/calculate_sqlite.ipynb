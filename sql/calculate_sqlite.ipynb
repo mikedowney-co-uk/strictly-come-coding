{
 "cells": [
  {
   "cell_type": "code",
   "id": "initial_id",
   "metadata": {
    "collapsed": true
   },
   "source": [
    "import sqlite3\n",
    "table = [\"million1234\", \"tenmil\", \"hundmil\", \"billion\"][3]\n",
    "\n",
    "conn = sqlite3.connect('strictly.db')\n",
    "cursor = conn.cursor()"
   ],
   "outputs": [],
   "execution_count": null
  },
  {
   "metadata": {},
   "cell_type": "code",
   "source": "# cursor.execute(\"select count(*) from billion\").fetchall()",
   "id": "54910c94b7551c38",
   "outputs": [],
   "execution_count": null
  },
  {
   "metadata": {},
   "cell_type": "code",
   "outputs": [],
   "execution_count": null,
   "source": [
    "sql = f\"SELECT station, min(temperature) as min, avg(temperature) as mean, max(temperature) as max from {table} group by station order by station\"\n",
    "print(sql)"
   ],
   "id": "1fea5d50ff8b4d52"
  },
  {
   "metadata": {},
   "cell_type": "code",
   "outputs": [],
   "execution_count": null,
   "source": "ret = cursor.execute(sql).fetchall()",
   "id": "23dc0139fee16be4"
  },
  {
   "metadata": {},
   "cell_type": "code",
   "outputs": [],
   "execution_count": null,
   "source": [
    "for row in ret:\n",
    "    print(f\"{row[0]}={row[1]:0.1f};{row[2]:0.1f};{row[3]:0.1f}\")"
   ],
   "id": "88942fadd1b32ec4"
  },
  {
   "metadata": {},
   "cell_type": "code",
   "source": "conn.close()",
   "id": "f2654c4f55dae621",
   "outputs": [],
   "execution_count": null
  },
  {
   "metadata": {},
   "cell_type": "code",
   "source": "",
   "id": "3c9ae565b779530e",
   "outputs": [],
   "execution_count": null
  }
 ],
 "metadata": {
  "kernelspec": {
   "display_name": "Python 3",
   "language": "python",
   "name": "python3"
  },
  "language_info": {
   "codemirror_mode": {
    "name": "ipython",
    "version": 2
   },
   "file_extension": ".py",
   "mimetype": "text/x-python",
   "name": "python",
   "nbconvert_exporter": "python",
   "pygments_lexer": "ipython2",
   "version": "2.7.6"
  }
 },
 "nbformat": 4,
 "nbformat_minor": 5
}
